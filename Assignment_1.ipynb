{
  "nbformat": 4,
  "nbformat_minor": 0,
  "metadata": {
    "colab": {
      "name": "Lab_2.ipynb",
      "provenance": [],
      "collapsed_sections": [],
      "toc_visible": true
    },
    "kernelspec": {
      "name": "python3",
      "display_name": "Python 3"
    },
    "accelerator": "GPU"
  },
  "cells": [
    {
      "cell_type": "code",
      "metadata": {
        "id": "oAyUtpTeOAHq",
        "colab_type": "code",
        "colab": {
          "base_uri": "https://localhost:8080/",
          "height": 52
        },
        "outputId": "5a6c7072-da10-4f97-e48e-3523f122eec0"
      },
      "source": [
        "# Import Required Libraries\n",
        "import pandas as pd\n",
        "import numpy as np\n",
        "from sklearn.preprocessing import StandardScaler\n",
        "from sklearn.model_selection import train_test_split\n",
        "import torch\n",
        "from torch.optim import SGD\n",
        "from torch.nn import L1Loss\n",
        "\n",
        "!pip install pytorch-ignite\n",
        "from ignite.contrib.metrics.regression.r2_score import R2Score"
      ],
      "execution_count": 108,
      "outputs": [
        {
          "output_type": "stream",
          "text": [
            "Requirement already satisfied: pytorch-ignite in /usr/local/lib/python3.6/dist-packages (0.3.0)\n",
            "Requirement already satisfied: torch in /usr/local/lib/python3.6/dist-packages (from pytorch-ignite) (1.4.0)\n"
          ],
          "name": "stdout"
        }
      ]
    },
    {
      "cell_type": "code",
      "metadata": {
        "id": "JSQ-Z8dDOBHE",
        "colab_type": "code",
        "outputId": "9839a2c6-a95a-4c62-9d6e-47798098959a",
        "colab": {
          "base_uri": "https://localhost:8080/",
          "height": 35
        }
      },
      "source": [
        "# Link the jupyter notebook to google drive\n",
        "from google.colab import drive\n",
        "drive.mount('/content/drive')"
      ],
      "execution_count": 109,
      "outputs": [
        {
          "output_type": "stream",
          "text": [
            "Drive already mounted at /content/drive; to attempt to forcibly remount, call drive.mount(\"/content/drive\", force_remount=True).\n"
          ],
          "name": "stdout"
        }
      ]
    },
    {
      "cell_type": "code",
      "metadata": {
        "id": "fsVREfssOCpb",
        "colab_type": "code",
        "outputId": "9ab499d7-25d7-45d1-90f1-20883374b316",
        "colab": {
          "base_uri": "https://localhost:8080/",
          "height": 488
        }
      },
      "source": [
        "# Load the dataset and noemalize it\n",
        "dataset = pd.read_csv(\"/content/housing.csv\")\n",
        "dataset.dropna(inplace =True)\n",
        "dataset.drop('ocean_proximity',axis=1,inplace=True)\n",
        "\n",
        "X = dataset.loc[:,'longitude':'median_income']\n",
        "Y = dataset[\"median_house_value\"]\n",
        "\n",
        "# Prine the first 10 rows of the dataset\n",
        "print(dataset.head(10))\n",
        "\n",
        "# Plot the first 10 rows of the dataset\n",
        "dataset.head(10).plot(subplots=True)\n",
        "\n",
        "# Normalize the data using Standard Scaler\n",
        "scaler = StandardScaler()\n",
        "X = scaler.fit_transform(X)\n",
        "\n"
      ],
      "execution_count": 110,
      "outputs": [
        {
          "output_type": "stream",
          "text": [
            "   longitude  latitude  ...  median_income  median_house_value\n",
            "0    -122.23     37.88  ...         8.3252            452600.0\n",
            "1    -122.22     37.86  ...         8.3014            358500.0\n",
            "2    -122.24     37.85  ...         7.2574            352100.0\n",
            "3    -122.25     37.85  ...         5.6431            341300.0\n",
            "4    -122.25     37.85  ...         3.8462            342200.0\n",
            "5    -122.25     37.85  ...         4.0368            269700.0\n",
            "6    -122.25     37.84  ...         3.6591            299200.0\n",
            "7    -122.25     37.84  ...         3.1200            241400.0\n",
            "8    -122.26     37.84  ...         2.0804            226700.0\n",
            "9    -122.25     37.84  ...         3.6912            261100.0\n",
            "\n",
            "[10 rows x 9 columns]\n"
          ],
          "name": "stdout"
        },
        {
          "output_type": "display_data",
          "data": {
            "image/png": "[encoded data removed]",
            "text/plain": [
              "<Figure size 432x288 with 9 Axes>"
            ]
          },
          "metadata": {
            "tags": []
          }
        }
      ]
    },
    {
      "cell_type": "code",
      "metadata": {
        "id": "Np96AfmJOXbS",
        "colab_type": "code",
        "colab": {}
      },
      "source": [
        "# Split the data into training and testing sets with random seed = 2003\n",
        "x_train,x_test,y_train,y_test = train_test_split(X,Y,test_size=0.3,random_state=2003)\n"
      ],
      "execution_count": 0,
      "outputs": []
    },
    {
      "cell_type": "code",
      "metadata": {
        "id": "GgHYkRPuO_mp",
        "colab_type": "code",
        "colab": {}
      },
      "source": [
        "# Convert the labels into arrays\n",
        "y_train = y_train.to_numpy()\n",
        "y_test = y_test.to_numpy()\n"
      ],
      "execution_count": 0,
      "outputs": []
    },
    {
      "cell_type": "code",
      "metadata": {
        "id": "kOwSGGunPj54",
        "colab_type": "code",
        "colab": {}
      },
      "source": [
        "# Import the Libraries for building the model \n",
        "from torch.nn import Conv1d\n",
        "from torch.nn import MaxPool1d\n",
        "from torch.nn import Flatten\n",
        "from torch.nn import Linear\n",
        "from torch.nn.functional import relu\n",
        "\n",
        "from torch.utils.data import DataLoader, TensorDataset"
      ],
      "execution_count": 0,
      "outputs": []
    },
    {
      "cell_type": "code",
      "metadata": {
        "id": "cvmMUKgKRUwZ",
        "colab_type": "code",
        "colab": {}
      },
      "source": [
        "#Create the Cnn Model\n",
        "class CnnRegressor(torch.nn.Module):\n",
        "    #Definetheinitializationmethod\n",
        "    def __init__(self,batch_size,inputs,outputs):\n",
        "        #Initialize the superclass and store the parameters\n",
        "        super(CnnRegressor,self).__init__()\n",
        "        self.batch_size=batch_size\n",
        "        self.inputs=inputs\n",
        "        self.outputs=outputs\n",
        "\n",
        "        #Define the input layer\n",
        "        self.input_layer=Conv1d(inputs,batch_size,1)\n",
        "\n",
        "        #Define a maxpooling layer\n",
        "        self.max_pooling_layer=MaxPool1d(1)\n",
        "\n",
        "        #Define another convolution layer\n",
        "        self.conv_layer=Conv1d(batch_size,128,1)\n",
        "\n",
        "        #Define a flatten layer\n",
        "        self.flatten_layer=Flatten()\n",
        "\n",
        "        #Define a linear layer\n",
        "        self.linear_layer=Linear(128,64)\n",
        "\n",
        "        #Define the output layer\n",
        "        self.output_layer=Linear(64,outputs)\n",
        "\n",
        "\n",
        "    #Define a method to feed inputs through the model\n",
        "    def feed(self,input):\n",
        "        #Reshape the entry so it can be fed to the input layer\n",
        "        input=input.reshape((self.batch_size,self.inputs,1))\n",
        "\n",
        "        #Get theoutput of the first layer and run it through the the ReLU activation function\n",
        "        output=relu(self.input_layer(input))\n",
        "\n",
        "        #Get the output of the maxpooling layer\n",
        "        output=self.max_pooling_layer(output)\n",
        "\n",
        "        #Get the output of this layer and run it through the ReLU activation function\n",
        "        output=relu(self.conv_layer(output))\n",
        "\n",
        "\n",
        "        #Get the output of the flatten layer\n",
        "        output=self.flatten_layer(output)\n",
        "\n",
        "        #Get the output of the linear layer and run it through the ReLU activation function\n",
        "        output=self.linear_layer(output)\n",
        "\n",
        "        #Get the output of the output layer and return it\n",
        "        output=self.output_layer(output)\n",
        "\n",
        "        return output"
      ],
      "execution_count": 0,
      "outputs": []
    },
    {
      "cell_type": "code",
      "metadata": {
        "id": "pkjHVtpvVGxl",
        "colab_type": "code",
        "outputId": "6c05a203-a2fd-4838-d4bb-c038c7911d07",
        "colab": {
          "base_uri": "https://localhost:8080/",
          "height": 159
        }
      },
      "source": [
        "# Set batch size\n",
        "batch_size = 128\n",
        "\n",
        "# Initialize the model\n",
        "model = CnnRegressor(batch_size, X_train.shape[1],1)\n",
        "\n",
        "# Print the model summary\n",
        "model.cuda()\n"
      ],
      "execution_count": 115,
      "outputs": [
        {
          "output_type": "execute_result",
          "data": {
            "text/plain": [
              "CnnRegressor(\n",
              "  (input_layer): Conv1d(8, 128, kernel_size=(1,), stride=(1,))\n",
              "  (max_pooling_layer): MaxPool1d(kernel_size=1, stride=1, padding=0, dilation=1, ceil_mode=False)\n",
              "  (conv_layer): Conv1d(128, 128, kernel_size=(1,), stride=(1,))\n",
              "  (flatten_layer): Flatten()\n",
              "  (linear_layer): Linear(in_features=128, out_features=64, bias=True)\n",
              "  (output_layer): Linear(in_features=64, out_features=1, bias=True)\n",
              ")"
            ]
          },
          "metadata": {
            "tags": []
          },
          "execution_count": 115
        }
      ]
    },
    {
      "cell_type": "code",
      "metadata": {
        "id": "90zTwM88VlYN",
        "colab_type": "code",
        "colab": {}
      },
      "source": [
        "# Define a function to obtain the model loss\n",
        "def model_loss(model, dataset, train=False, optimizer = None):\n",
        "\n",
        "  performance = L1Loss()\n",
        "  score_metric = R2Score()\n",
        "\n",
        "  avg_loss = 0\n",
        "  avg_score = 0\n",
        "  count = 0\n",
        "  for input,output in iter(dataset):\n",
        "   \n",
        "    predictions = model.feed(input)\n",
        "\n",
        "    loss = performance(predictions,output)\n",
        "\n",
        "    score_metric.update([predictions,output])\n",
        "    score = score_metric.compute()\n",
        "\n",
        "    if(train):\n",
        "      optimizer.zero_grad()\n",
        "\n",
        "      loss.backward()\n",
        "\n",
        "      optimizer.step()\n",
        "\n",
        "    avg_loss += loss.item()\n",
        "    avg_score += score\n",
        "    count+=1\n",
        "\n",
        "    return avg_loss/count, avg_score/count "
      ],
      "execution_count": 0,
      "outputs": []
    },
    {
      "cell_type": "code",
      "metadata": {
        "id": "DyQDqhKSZeQr",
        "colab_type": "code",
        "outputId": "25f09929-f623-409d-c1c9-de6a2a5407c1",
        "colab": {
          "base_uri": "https://localhost:8080/",
          "height": 641
        }
      },
      "source": [
        "epochs = 100\n",
        "\n",
        "optimizer = SGD(model.parameters(), lr = 1e-5)\n",
        "\n",
        "inputs = torch.from_numpy(x_train).cuda().float()\n",
        "#print(inputs.shape)\n",
        "outputs = torch.from_numpy(y_train.reshape(y_train.shape[0],1)).cuda().float()\n",
        "\n",
        "tensor = TensorDataset(inputs,outputs)\n",
        "loader = DataLoader(tensor, batch_size, shuffle = True, drop_last=True)\n",
        "\n",
        "for epoch in range(epochs):\n",
        "\n",
        "  avg_loss, avg_r2_score = model_loss(model, loader, train=True, optimizer=optimizer)\n",
        "  if(epoch%10==0):\n",
        "    print(\"Epoch \" +str(epoch+10)+ \":\\n\\tLoss = \" + str(avg_loss)+\"\\n\\yR^2 Score = \"+ str(avg_r2_score))\n",
        "\n",
        "\n",
        "PATH = \"/content/1117477_1dconv_reg.pth\"\n",
        "torch.save(model, PATH)\n",
        "\n",
        "model = torch.load(PATH)\n",
        "\n",
        "# Evaluating the model on test data\n",
        "test_inputs=torch.from_numpy(x_test).cuda().float()\n",
        "test_outputs=torch.from_numpy(y_test.reshape(y_test.shape[0],1)).cuda().float()\n",
        "\n",
        "#CreateaDataLoaderinstancetoworkwithourbatches\n",
        "tensor=TensorDataset(test_inputs,test_outputs)\n",
        "loader=DataLoader(tensor,batch_size,shuffle=True,drop_last=True)\n",
        "\n",
        "#Outputtheaverageperformanceofthemodel\n",
        "avg_loss,avg_r2_score=model_loss(model,loader)\n",
        "print(\"Themodel'sL1lossis:\"+str(avg_loss))\n",
        "print(\"Themodel'sR^2scoreis:\"+str(avg_r2_score))\n"
      ],
      "execution_count": 117,
      "outputs": [
        {
          "output_type": "stream",
          "text": [
            "Epoch 10:\n",
            "\tLoss = 206362.578125\n",
            "\\yR^2 Score = -3.191200986751844\n",
            "Epoch 20:\n",
            "\tLoss = 219170.375\n",
            "\\yR^2 Score = -3.5551177415434596\n",
            "Epoch 30:\n",
            "\tLoss = 225071.1875\n",
            "\\yR^2 Score = -4.168236505439949\n",
            "Epoch 40:\n",
            "\tLoss = 198629.75\n",
            "\\yR^2 Score = -3.42330372328695\n",
            "Epoch 50:\n",
            "\tLoss = 188786.78125\n",
            "\\yR^2 Score = -4.1962367245004515\n",
            "Epoch 60:\n",
            "\tLoss = 212336.0625\n",
            "\\yR^2 Score = -2.599367292210525\n",
            "Epoch 70:\n",
            "\tLoss = 215092.25\n",
            "\\yR^2 Score = -3.6357262547386773\n",
            "Epoch 80:\n",
            "\tLoss = 213253.96875\n",
            "\\yR^2 Score = -3.341501787944421\n",
            "Epoch 90:\n",
            "\tLoss = 203683.65625\n",
            "\\yR^2 Score = -4.122464615960413\n",
            "Epoch 100:\n",
            "\tLoss = 210895.34375\n",
            "\\yR^2 Score = -3.2194664942729547\n",
            "Themodel'sL1lossis:217242.28125\n",
            "Themodel'sR^2scoreis:-3.2298193655285887\n"
          ],
          "name": "stdout"
        },
        {
          "output_type": "stream",
          "text": [
            "/usr/local/lib/python3.6/dist-packages/torch/serialization.py:360: UserWarning: Couldn't retrieve source code for container of type CnnRegressor. It won't be checked for correctness upon loading.\n",
            "  \"type \" + obj.__name__ + \". It won't be checked \"\n"
          ],
          "name": "stderr"
        }
      ]
    },
    {
      "cell_type": "code",
      "metadata": {
        "id": "Mp0GFuz6QPqO",
        "colab_type": "code",
        "colab": {}
      },
      "source": [
        ""
      ],
      "execution_count": 0,
      "outputs": []
    }
  ]
}